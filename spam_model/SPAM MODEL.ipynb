{
 "cells": [
  {
   "cell_type": "markdown",
   "id": "0df26577",
   "metadata": {},
   "source": [
    "# либы"
   ]
  },
  {
   "cell_type": "code",
   "execution_count": 2,
   "id": "9cc7f0f7",
   "metadata": {},
   "outputs": [],
   "source": [
    "# Standard python libraries\n",
    "import os\n",
    "import re\n",
    "import time\n",
    "from datetime import datetime\n",
    "\n",
    "import pymssql\n",
    "import psycopg2\n",
    "\n",
    "import numpy as np\n",
    "import pandas as pd\n",
    "\n",
    "import seaborn as sns\n",
    "import matplotlib.pyplot as plt\n",
    "\n",
    "from sklearn import decomposition\n",
    "from sklearn.cluster import KMeans\n",
    "from sklearn.metrics import confusion_matrix\n",
    "from sklearn.model_selection import GridSearchCV\n",
    "from sklearn.metrics import classification_report\n",
    "from sklearn.ensemble import RandomForestClassifier\n",
    "from sklearn.model_selection import train_test_split\n",
    "from sklearn.metrics import accuracy_score, f1_score\n",
    "from sklearn.metrics import f1_score,confusion_matrix,precision_recall_curve\n",
    "from sklearn.model_selection import train_test_split, RandomizedSearchCV, cross_val_score\n",
    "from sklearn.metrics import log_loss,roc_curve,auc,roc_auc_score,average_precision_score,accuracy_score, f1_score\n",
    "\n",
    "import itertools\n",
    "from collections import Counter, OrderedDict\n",
    "import autowoe\n",
    "import xgboost as xgb\n",
    "import lightgbm as lgb\n",
    "\n",
    "from autowoe import ReportDeco, AutoWoE\n",
    "from lightautoml.report import ReportDeco\n",
    "import lightautoml\n",
    "import category_encoders\n",
    "\n",
    "from tqdm import tqdm\n",
    "from copy import deepcopy\n",
    "\n",
    "#Imports from LightAutoML package\n",
    "from lightautoml.automl.presets.tabular_presets import TabularAutoML, TabularUtilizedAutoML\n",
    "from lightautoml.tasks import Task\n",
    "\n",
    "# Additional libs for feature creation from raw data\n",
    "# The V3 lib takes time to init (the database is massive). Tip: Put it into the init of your app.\n",
    "from names_dataset import NameDataset\n",
    "names = NameDataset()\n",
    "# check phone-numbers\n",
    "import phonenumbers"
   ]
  },
  {
   "cell_type": "code",
   "execution_count": 46,
   "id": "5542ee64",
   "metadata": {},
   "outputs": [],
   "source": [
    "# будем отображать графики прямо в jupyter'e\n",
    "%matplotlib inline\n",
    "\n",
    "#увеличим дефолтный размер графиков\n",
    "from pylab import rcParams\n",
    "rcParams['figure.figsize'] = 10, 5\n",
    "\n",
    "# Сброс ограничений на количество выводимых рядов\n",
    "pd.set_option('display.max_rows', None)\n",
    "\n",
    "# Сброс ограничений на число столбцов\n",
    "pd.set_option('display.max_columns', None)\n",
    "\n",
    "# Сброс ограничений на количество символов в записи\n",
    "pd.set_option('display.max_colwidth', None)"
   ]
  },
  {
   "cell_type": "markdown",
   "id": "50d446c0",
   "metadata": {},
   "source": [
    "# для матомо"
   ]
  },
  {
   "cell_type": "code",
   "execution_count": 47,
   "id": "7fcc318c",
   "metadata": {},
   "outputs": [],
   "source": [
    "# Фунция для обработки HTTP запроса\n",
    "import requests\n",
    "from requests.exceptions import HTTPError\n",
    "\n",
    "def HTTP_request(url: str) -> dict:\n",
    "    try:\n",
    "        response = requests.get(url)\n",
    "        # если ответ успешен, исключения задействованы не будут\n",
    "        response.raise_for_status()\n",
    "    except HTTPError as http_err:\n",
    "        #print(f'HTTP error occurred: {http_err}')\n",
    "        return None\n",
    "    except Exception as err:\n",
    "        #print(f'Other error occurred: {err}')\n",
    "        return None\n",
    "    else:\n",
    "        return response.json()"
   ]
  },
  {
   "cell_type": "code",
   "execution_count": 1330,
   "id": "33fdfb64",
   "metadata": {},
   "outputs": [],
   "source": [
    "# Функция принимает на вход matomo_id и время оставления лида \n",
    "# и возвращает на выходе агрегированные метрики по лиду с данными  matomo_id\n",
    "\n",
    "def get_matomo_features (visitorId: str, datetime_leadcreated: datetime, token: str, \n",
    "                         last_features: list, sum_features: list) -> dict:\n",
    "    \"\"\"\n",
    "    params: \n",
    "    visitor_id: visitor_id который привязался к интересующему lead_id\n",
    "    datetime_leadcreated: дата создания лида\n",
    "    token: token для доступа к данным через HTTPS запрос\n",
    "    last_features: фичи, которые будут возвращены из последнего визита до оставления заявки\n",
    "    sum_features: фичи, которые возвращаются как агрегаты по всем посещениям до оставления заявки. Например суммарное время на странице\n",
    "    \"\"\"\n",
    "    if visitorId is None:\n",
    "        return None\n",
    "    \n",
    "    # задаем глобальные переменные\n",
    "    name = 'lastVisits'\n",
    "    # формируем json с данными из API Матомо\n",
    "    last_visit = None # инициализируем переменную для хранения последнего визита до оставления заявки\n",
    "    url = 'https://matomo.synergy.ru/?module=API&method=Live.getVisitorProfile&idSite=1&format=JSON&token_auth=' + \\\n",
    "            token + \\\n",
    "            '&visitorId=' + \\\n",
    "            visitorId\n",
    "    # создаем результирующий словарь\n",
    "    res_dict = {}\n",
    "    # инициализируем словарь изначально нулями для тех фичей, которые считются как агрегаты по посещениям\n",
    "    for k in sum_features:\n",
    "        res_dict[k] = 0\n",
    "    # получаем данные из Матомо в виде словаря, если словарь пустой, то None \n",
    "    matomo_stat = HTTP_request(url)\n",
    "    # флаг того, что найдено хотя бы одно посещение для которого время посещения меньше, чем время когда была оставлена заявка\n",
    "    flag_find_last_visit = False\n",
    "    if not matomo_stat:\n",
    "        return None\n",
    "    else:\n",
    "        for visits in range(len(matomo_stat.get(name, None))):\n",
    "                # для каждого визита фиксируем время обработки\n",
    "                current_visit = matomo_stat.get(name, None)[visits]\n",
    "                serverDate = current_visit.get('serverDate', None)\n",
    "                serverTimePrettyFirstAction = current_visit.get('serverTimePrettyFirstAction', None)\n",
    "                try:\n",
    "                    date_string = serverDate + ' ' + serverTimePrettyFirstAction\n",
    "                    date_time_visits = datetime.fromisoformat(date_string)\n",
    "                except Exception as err:\n",
    "                    date_time_visits = None\n",
    "                # если date_time_visits не None, то нужно сравнить это время с временем создания лида.\n",
    "                # и если полученное время посещения меньше чем время когда был создан лид, то тогда обрабатываем этот визит\n",
    "                if date_time_visits and date_time_visits < datetime_leadcreated:\n",
    "                    #print('date_time_visits = ', date_time_visits, 'datetime_leadcreated = ', datetime_leadcreated)\n",
    "                    # флаг поиска ставим в True если нашли хоты бы один визит раньше чем время лида \n",
    "                    flag_find_last_visit = True\n",
    "                    # если найден первый визит раньше времени оставления лида\n",
    "                    if not last_visit:\n",
    "                        last_visit = date_time_visits\n",
    "                        for k in last_features:\n",
    "                            res_dict[k] = current_visit.get(k, None)\n",
    "                        for k in sum_features:\n",
    "                            # если не получается приплюсовать значение фичи, то идем дальше по списку фичей\n",
    "                            try:\n",
    "                                res_dict[k]+=int(current_visit.get(k, None))\n",
    "                            except Exception as err:\n",
    "                                continue\n",
    "                    # если найден еще один визит раньше времени оставления лида\n",
    "                    else:\n",
    "                        # если время этого визита больше чем время последнего найденного визита\n",
    "                        # знчит мы обновляем все данные для фичей, которые берутся только для пос визита\n",
    "                        # и плюуем значения для суммирующихся метрик\n",
    "                        if date_time_visits > last_visit:\n",
    "                            #print('date_time_visits = ', date_time_visits, 'last_visit = ', last_visit)\n",
    "                            last_visit = date_time_visits\n",
    "                            for k in last_features:\n",
    "                                res_dict[k] = current_visit.get(k, None)\n",
    "                            for k in sum_features:\n",
    "                                # если не получается приплюсовать значение фичи, то идем дальше по списку фичей\n",
    "                                try:\n",
    "                                    res_dict[k]+=int(current_visit.get(k, None))\n",
    "                                except Exception as err:\n",
    "                                    continue                            \n",
    "                        # если время визита меньше чем время последнего найденного визита (но все еще меньше чем время лида)\n",
    "                        else:\n",
    "                            for k in sum_features:\n",
    "                                # если не получается приплюсовать значение фичи, то идем дальше по списку фичей\n",
    "                                try:\n",
    "                                    res_dict[k]+=int(current_visit.get(k, None))\n",
    "                                except Exception as err:\n",
    "                                    continue\n",
    "    if flag_find_last_visit:\n",
    "        return res_dict\n",
    "    else:\n",
    "        return None"
   ]
  },
  {
   "cell_type": "code",
   "execution_count": 1331,
   "id": "a6048145",
   "metadata": {},
   "outputs": [],
   "source": [
    "def matomo_stat(leads: list, visits: list, dates: list):\n",
    "    res = pd.DataFrame()\n",
    "    for l, v, d in zip(leads, visits, dates):\n",
    "        d = get_matomo_features(v, d, token, last_visit_features, sum_features)\n",
    "        if d and not res.empty:\n",
    "            d  = pd.DataFrame([d])\n",
    "            d['id_lead'] = l\n",
    "            res = pd.concat([res, d], ignore_index=True)\n",
    "        elif d and res.empty:\n",
    "            d  = pd.DataFrame([d])\n",
    "            d['id_lead'] = l\n",
    "            res = d.copy()\n",
    "    return res"
   ]
  },
  {
   "cell_type": "markdown",
   "id": "8e27bb27",
   "metadata": {},
   "source": [
    "# Функции для проверки данных"
   ]
  },
  {
   "cell_type": "code",
   "execution_count": 48,
   "id": "d61fa2f9",
   "metadata": {},
   "outputs": [],
   "source": [
    "#1 создание из поля с именем фичи есть ли такое имя или фаимилия в базе популярных имен\n",
    "def title_check(st):\n",
    "    if st is None or st == '':\n",
    "        return False\n",
    "    else:\n",
    "        # проверяем через доп.библиоетку о том что такое имя или фамилия существуют\n",
    "        for s in st.strip().split():\n",
    "            if any(names.search(s).values()):\n",
    "                return True\n",
    "        return False\n",
    "\n",
    "#2 уникальное количество букв в имени\n",
    "def get_alpha_unique_numbers(st):\n",
    "    if st is None or st=='':\n",
    "        return 0\n",
    "    else:\n",
    "        return len(set([x for x in st if x.isalpha()]))/len(st)\n",
    "\n",
    "#3 доля  заглавных букв в имени\n",
    "def get_alpha_UPPER_numbers(st):\n",
    "    if st is None or st=='':\n",
    "        return 0\n",
    "    else:\n",
    "        return sum(map(str.isupper,st))/len(st)\n",
    "    \n",
    "#4 длина имени (все символы удаляя пробелы)\n",
    "def get_title_length(st):\n",
    "    if st is None or st=='':\n",
    "        return 0\n",
    "    else:\n",
    "        s = st.replace(' ', '')\n",
    "        return len(s)\n",
    "\n",
    "#5 количество слов в имени\n",
    "def get_word_count(st):\n",
    "    if st is None or st=='':\n",
    "        return 0\n",
    "    else:\n",
    "        return len(st.strip().split(\" \"))\n",
    "\n",
    "#6 есть ли в имени символы на кириллице\n",
    "def has_cyrillic_letter(st):\n",
    "    if st is None or st=='':\n",
    "        return False\n",
    "    else:\n",
    "        return bool(re.search('[а-яА-Я]', st))\n",
    "\n",
    "#7 есть ли в имени символы англ алфаивта\n",
    "def has_engl_letter(st):\n",
    "    if st is None or st=='':\n",
    "        return False\n",
    "    else:\n",
    "        return bool(re.search('[a-zA-Z]', st))\n",
    "    \n",
    "#8 создание из поля с телефоном фичи есть ли такой номер телефона через библиотеку\n",
    "def phone_check(st):\n",
    "    if st is None or st=='':\n",
    "        return False\n",
    "    else:\n",
    "        s = ''.join([str(elem) for elem in st if elem.isdigit()])\n",
    "        if len(s)==11 and s[0]=='8':\n",
    "            s = '+7' + s[1:]\n",
    "        else:\n",
    "            s = '+' + s[:]\n",
    "        try:\n",
    "            my_number = phonenumbers.parse(s)\n",
    "            return phonenumbers.is_valid_number(my_number)\n",
    "        except:\n",
    "            return False\n",
    "        \n",
    "#9 уникальное количество цифр в номере/или любом другом объекте\n",
    "def get_digit_unique_numbers(st):\n",
    "    if st is None or st=='':\n",
    "        return 0\n",
    "    else:\n",
    "        return len(set([x for x in st if x.isdigit()]))/len(st)\n",
    "\n",
    "#10 длина только цифр в номере\n",
    "def get_digit_length(st):\n",
    "    if st is None or st=='':\n",
    "        return 0\n",
    "    else:\n",
    "        s = ''.join([str(elem) for elem in st if elem.isdigit()])\n",
    "        return len(s)"
   ]
  },
  {
   "cell_type": "code",
   "execution_count": 49,
   "id": "9ca28788",
   "metadata": {},
   "outputs": [],
   "source": [
    "def to_datetime(date):\n",
    "    \"\"\"\n",
    "    Converts a numpy datetime64 object to a python datetime object \n",
    "    Input:\n",
    "      date - a np.datetime64 object\n",
    "    Output:\n",
    "      DATE - a python datetime object\n",
    "    \"\"\"\n",
    "    timestamp = ((date - np.datetime64('1970-01-01T00:00:00'))\n",
    "                 / np.timedelta64(1, 's'))\n",
    "    return datetime.utcfromtimestamp(timestamp)"
   ]
  },
  {
   "cell_type": "markdown",
   "id": "eb9f0894",
   "metadata": {},
   "source": [
    "# ФУНКЦИИ ДЛЯ ПОСТОБРАБОТКИ"
   ]
  },
  {
   "cell_type": "code",
   "execution_count": 50,
   "id": "3400a226",
   "metadata": {},
   "outputs": [],
   "source": [
    "def best_features(train_data, test_data, features_importance_list):\n",
    "    \n",
    "\n",
    "    features = []\n",
    "    len_of_features = []\n",
    "    model_quality = []\n",
    "    \n",
    "    task = Task('binary', metric = roc_auc_score)\n",
    "    roles = {'target': 'SPAM_flag'}\n",
    "    \n",
    "    \n",
    "    for i in features_importance_list: \n",
    "        features.append(i)\n",
    "        len_of_features.append(len(features))\n",
    "\n",
    "        automl = TabularAutoML(task = task, \n",
    "                           timeout = 600, # 1800 seconds = 30 minutes\n",
    "                           cpu_limit = -1, # Optimal for Kaggle kernels\n",
    "                           general_params = {'use_algos': [['catboost','lgb', 'lgb_tuned']]})\n",
    "    \n",
    "    \n",
    "        model = automl.fit_predict(train_data[features + ['SPAM_flag']], roles = roles)\n",
    "        valid_pred = automl.predict(test_data[features + ['SPAM_flag']])\n",
    "        \n",
    "        model_quality.append(roc_auc_score(test_data['SPAM_flag'].values,  valid_pred.data[:,0]))\n",
    "        \n",
    "        print('VAL ROC_AUC: {}'.format(roc_auc_score(test_data['SPAM_flag'].values,  valid_pred.data[:,0])))\n",
    "        \n",
    "    plt.plot(len_of_features, model_quality)\n",
    "    plt.show()"
   ]
  },
  {
   "cell_type": "code",
   "execution_count": 51,
   "id": "5095a354",
   "metadata": {},
   "outputs": [],
   "source": [
    "def best_ridge(test, ridge, step):\n",
    "    \n",
    "    i = ridge\n",
    "    \n",
    "    ridge_list = []\n",
    "    model_quality = []\n",
    "    \n",
    "    while i < 1:\n",
    "        \n",
    "        test['spam_proba_'+str(i)] = test['spam_proba'].apply(lambda x: 1 if x>i else 0)\n",
    "        roc_auc = roc_auc_score(test['SPAM_flag'].values,  test['spam_proba_'+str(i)].values)\n",
    "        \n",
    "        ridge_list.append(i)\n",
    "        model_quality.append(roc_auc)\n",
    "        \n",
    "        i+=step\n",
    "        #print(i,roc_auc)\n",
    "    plt.plot(ridge_list, model_quality)\n",
    "    plt.show()"
   ]
  },
  {
   "cell_type": "code",
   "execution_count": 52,
   "id": "41c02142",
   "metadata": {},
   "outputs": [],
   "source": [
    "def metrics_bb(df, need_department):\n",
    "    \n",
    "    result = pd.DataFrame()\n",
    "    i = 0.1\n",
    "    while i < 1:\n",
    "        mid_res = pd.DataFrame()\n",
    "        df['spam_proba_'+str(i)] = df['spam_proba'].apply(lambda x: 1 if x > i else 0)\n",
    "        for depart in need_department:\n",
    "            res = pd.DataFrame()\n",
    "            ddf = df[df['resp_depart_lv2'] == depart]\n",
    "            \n",
    "            y_pred = ddf['spam_proba_'+str(i)].values\n",
    "            y_real = ddf['SPAM_flag'].values\n",
    "            \n",
    "            metr = list(confusion_matrix(y_real, y_pred).ravel())\n",
    "            \n",
    "            res['TN'] = pd.Series(metr[0])\n",
    "            res['FP'] = pd.Series(metr[1])\n",
    "            res['FN'] = pd.Series(metr[2])\n",
    "            res['TP'] = pd.Series(metr[3])\n",
    "            \n",
    "            res['precision'] = res['TP']/(res['TP'] + res['FP'])\n",
    "            res['recall'] = res['TP']/(res['TP']+res['FN'])\n",
    "            res['F1'] = 2*res['precision']*res['recall']/(res['precision']+res['recall'])\n",
    "            \n",
    "            res['probability'] =  str(i)\n",
    "            res['resp_depart_lv2'] = depart\n",
    "            \n",
    "            mid_res = pd.concat([mid_res, res], axis = 0)\n",
    "        i+=0.1\n",
    "        result = pd.concat([result, mid_res], axis = 0)\n",
    "    return(result)\n",
    "        "
   ]
  },
  {
   "cell_type": "code",
   "execution_count": 53,
   "id": "7bc95fcc",
   "metadata": {},
   "outputs": [],
   "source": [
    "def metrics_wb(df, need_department):\n",
    "    \n",
    "    result = pd.DataFrame()\n",
    "    for depart in need_department:\n",
    "        res = pd.DataFrame()\n",
    "        ddf = df[df['resp_depart_lv2'] == depart]\n",
    "        \n",
    "        y_pred = ddf['SPAM_flag_wb']\n",
    "        y_real = ddf['SPAM_flag']\n",
    "        \n",
    "        metr = list(confusion_matrix(y_pred, y_real).ravel())\n",
    "        \n",
    "        res['TN'] = pd.Series(metr[0])\n",
    "        res['FP'] = pd.Series(metr[1])\n",
    "        res['FN'] = pd.Series(metr[2])\n",
    "        res['TP'] = pd.Series(metr[3])\n",
    "        res['resp_depart_lv2'] = depart\n",
    "        \n",
    "        result = pd.concat([result, res], axis = 0)\n",
    "    return(result)"
   ]
  },
  {
   "cell_type": "markdown",
   "id": "1c1cfcee",
   "metadata": {},
   "source": [
    "# ###################################\n",
    "# данные\n",
    "# ###################################"
   ]
  },
  {
   "cell_type": "markdown",
   "id": "cb7cdcd3",
   "metadata": {},
   "source": [
    "### matomo"
   ]
  },
  {
   "cell_type": "code",
   "execution_count": 436,
   "id": "01418852",
   "metadata": {},
   "outputs": [
    {
     "name": "stdout",
     "output_type": "stream",
     "text": [
      "CPU times: total: 2.03 s\n",
      "Wall time: 4.02 s\n"
     ]
    }
   ],
   "source": [
    "%%time\n",
    "# читаем данные из базы в датафрейм\n",
    "data_matomo = pd.DataFrame()\n",
    "\n",
    "with pymssql.connect(host='MSK1-ADB01', database='Analytic') as conn:\n",
    "    data_matomo = pd.read_sql_query(\"SELECT * FROM dbo.big_leads_matomo with (nolock)\", conn)"
   ]
  },
  {
   "cell_type": "code",
   "execution_count": 437,
   "id": "d88b473d",
   "metadata": {},
   "outputs": [
    {
     "name": "stdout",
     "output_type": "stream",
     "text": [
      "CPU times: total: 734 ms\n",
      "Wall time: 1.52 s\n"
     ]
    }
   ],
   "source": [
    "%%time\n",
    "# читаем данные из базы в датафрейм\n",
    "data_matomo_2 = pd.DataFrame()\n",
    "\n",
    "with pymssql.connect(host='MSK1-ADB01', database='Analytic') as conn:\n",
    "    data_matomo = pd.read_sql_query(\"SELECT * FROM dbo.test_leads_matomo with (nolock)\", conn)"
   ]
  },
  {
   "cell_type": "code",
   "execution_count": 438,
   "id": "f66fbeba",
   "metadata": {},
   "outputs": [
    {
     "name": "stdout",
     "output_type": "stream",
     "text": [
      "CPU times: total: 15.6 ms\n",
      "Wall time: 25.6 ms\n"
     ]
    }
   ],
   "source": [
    "%%time\n",
    "data_matomo_full = pd.concat([data_matomo, data_matomo_2], sort = False, axis = 0)"
   ]
  },
  {
   "cell_type": "markdown",
   "id": "135890d7",
   "metadata": {},
   "source": [
    "### lead"
   ]
  },
  {
   "cell_type": "code",
   "execution_count": 6,
   "id": "b5e26f4e",
   "metadata": {},
   "outputs": [
    {
     "name": "stdout",
     "output_type": "stream",
     "text": [
      "CPU times: total: 14.8 s\n",
      "Wall time: 21.2 s\n"
     ]
    }
   ],
   "source": [
    "%%time\n",
    "# читаем данные из базы в датафрейм\n",
    "data_p1 = pd.DataFrame()\n",
    "\n",
    "with pymssql.connect(host='MSK1-ADB01', database='Analytic') as conn:\n",
    "    data_p1 = pd.read_sql_query(\"SELECT * FROM dbo.RAF_spam_model_test_p1 with (nolock)\", conn)"
   ]
  },
  {
   "cell_type": "code",
   "execution_count": 387,
   "id": "9336b016",
   "metadata": {},
   "outputs": [
    {
     "data": {
      "text/plain": [
       "(Timestamp('2022-03-01 00:00:57'), Timestamp('2022-10-05 23:59:43'))"
      ]
     },
     "execution_count": 387,
     "metadata": {},
     "output_type": "execute_result"
    }
   ],
   "source": [
    "data_p1['datetime_leadcreated'].min(), data_p1['datetime_leadcreated'].max()"
   ]
  },
  {
   "cell_type": "code",
   "execution_count": 7,
   "id": "8c164f60",
   "metadata": {},
   "outputs": [
    {
     "name": "stdout",
     "output_type": "stream",
     "text": [
      "CPU times: total: 5.7 s\n",
      "Wall time: 6.03 s\n"
     ]
    }
   ],
   "source": [
    "%%time\n",
    "# читаем данные из базы в датафрейм\n",
    "data_p2 = pd.DataFrame()\n",
    "\n",
    "with pymssql.connect(host='MSK1-ADB01', database='Analytic', charset=\"cp1251\") as conn:\n",
    "    data_p2 = pd.read_sql_query(\"SELECT * FROM dbo.RAF_spam_model_test_p2 with (nolock)\", conn)"
   ]
  },
  {
   "cell_type": "code",
   "execution_count": 389,
   "id": "40f1fc52",
   "metadata": {},
   "outputs": [],
   "source": [
    "data_full = data_p1.merge(data_p2, left_on = 'id_lead', right_on = 'id_lead')"
   ]
  },
  {
   "cell_type": "code",
   "execution_count": 390,
   "id": "2d0253d6",
   "metadata": {},
   "outputs": [
    {
     "data": {
      "text/plain": [
       "(860271, 34)"
      ]
     },
     "execution_count": 390,
     "metadata": {},
     "output_type": "execute_result"
    }
   ],
   "source": [
    "data_full.shape"
   ]
  },
  {
   "cell_type": "markdown",
   "id": "eef7e6da",
   "metadata": {},
   "source": [
    "### full data"
   ]
  },
  {
   "cell_type": "code",
   "execution_count": 71,
   "id": "6c3c3213",
   "metadata": {},
   "outputs": [],
   "source": [
    "# %%time\n",
    "# data_full = data_lead_full.merge(data_matomo_full, on = 'id_lead', how = 'left')"
   ]
  },
  {
   "cell_type": "code",
   "execution_count": 391,
   "id": "cd1d1d1a",
   "metadata": {},
   "outputs": [
    {
     "data": {
      "text/plain": [
       "(278023, 34)"
      ]
     },
     "execution_count": 391,
     "metadata": {},
     "output_type": "execute_result"
    }
   ],
   "source": [
    "#только нужные статусы\n",
    "data_full =  data_full[data_full['lead_status'].isin(['Сконвертирован', 'Перезвон', 'Перспектива', 'Спам'])]\n",
    "data_full.shape"
   ]
  },
  {
   "cell_type": "markdown",
   "id": "a046892a",
   "metadata": {},
   "source": [
    "# ###################################\n",
    "# применение функций к данным\n",
    "# ###################################"
   ]
  },
  {
   "cell_type": "code",
   "execution_count": 392,
   "id": "3e2a4e43",
   "metadata": {},
   "outputs": [
    {
     "name": "stdout",
     "output_type": "stream",
     "text": [
      "CPU times: total: 38.2 s\n",
      "Wall time: 38.2 s\n"
     ]
    }
   ],
   "source": [
    "%%time\n",
    "# создание из поля с именем (title) фичи есть ли такое имя или фаимилия в базе популярных имен\n",
    "data_full['title_check'] = data_full['title'].apply(title_check)\n",
    "data_full['title_alpha_unique_share'] = data_full['title'].apply(get_alpha_unique_numbers)\n",
    "data_full['title_alpha_upper_share'] = data_full['title'].apply(get_alpha_UPPER_numbers)\n",
    "data_full['title_length'] = data_full['title'].apply(get_title_length)\n",
    "data_full['title_word_count'] = data_full['title'].apply(get_word_count)\n",
    "data_full['title_has_cyrillic_letter'] = data_full['title'].apply(has_cyrillic_letter)\n",
    "data_full['title_has_engl_letter'] = data_full['title'].apply(has_engl_letter)\n",
    "data_full['phone_check'] = data_full['phone'].apply(phone_check)\n",
    "data_full['PHONE_digit_unique_share'] = data_full['phone'].apply(get_digit_unique_numbers)\n",
    "data_full['PHONE_length'] = data_full['phone'].apply(get_digit_length)\n",
    "data_full['datetime_leadcreated'] = pd.to_datetime(data_full['datetime_leadcreated'])"
   ]
  },
  {
   "cell_type": "code",
   "execution_count": 393,
   "id": "ad391414",
   "metadata": {},
   "outputs": [],
   "source": [
    "work_data = data_full"
   ]
  },
  {
   "cell_type": "markdown",
   "id": "bc30f542",
   "metadata": {},
   "source": [
    "# ###################################\n",
    "# выделяю рабочие данные \n",
    "# ###################################"
   ]
  },
  {
   "cell_type": "code",
   "execution_count": 279,
   "id": "96e1405b",
   "metadata": {
    "scrolled": true
   },
   "outputs": [],
   "source": [
    "need_department = \\\n",
    "(\n",
    "    'Школа Бизнеса Синергия'\n",
    "    ,'Synergy Business School Dubai '\n",
    "    ,'Департамент регионального бизнеса'\n",
    "    ,'Департамент международного бизнеса'\n",
    "    ,'Коммерческий департамент'\n",
    "    ,'Коммерческий департамент 2'\n",
    "    ,'МАП'\n",
    ")"
   ]
  },
  {
   "cell_type": "code",
   "execution_count": 132,
   "id": "946537cf",
   "metadata": {},
   "outputs": [
    {
     "name": "stdout",
     "output_type": "stream",
     "text": [
      "CPU times: total: 1.72 s\n",
      "Wall time: 1.73 s\n"
     ]
    }
   ],
   "source": [
    "%%time\n",
    "#выделяю нужные департаменты\n",
    "\n",
    "work_data = \\\n",
    "(\n",
    "    data_full\n",
    "    .query('resp_depart_lv2 in @need_department')\n",
    ")"
   ]
  },
  {
   "cell_type": "markdown",
   "id": "446fe9b2",
   "metadata": {},
   "source": [
    "# ###################################\n",
    "# Предобработка data\n",
    "# ###################################"
   ]
  },
  {
   "cell_type": "code",
   "execution_count": 394,
   "id": "82e6b573",
   "metadata": {},
   "outputs": [
    {
     "name": "stdout",
     "output_type": "stream",
     "text": [
      "CPU times: total: 141 ms\n",
      "Wall time: 140 ms\n"
     ]
    }
   ],
   "source": [
    "%%time\n",
    "#заменяем таргет\n",
    "work_data['SPAM_flag'] = \\\n",
    "(\n",
    "    pd\n",
    "    .Series(work_data['lead_status'] =='Спам')\n",
    "    .map({False: 0, True: 1})\n",
    ")\n",
    "\n",
    "#кодируем проверку имени\n",
    "work_data['title_check'] = \\\n",
    "(\n",
    "    work_data\n",
    "    .title_check\n",
    "    .map({False: 0, True: 1})\n",
    ")\n",
    "\n",
    "#кодируем проверку имени кириллица\n",
    "work_data['title_has_cyrillic_letter'] = \\\n",
    "(\n",
    "    work_data\n",
    "    .title_has_cyrillic_letter\n",
    "    .map({False: 0, True: 1})\n",
    ")\n",
    "\n",
    "#кодируем проверку имени латиница\n",
    "work_data['title_has_engl_letter'] = \\\n",
    "(\n",
    "    work_data\n",
    "    .title_has_engl_letter\n",
    "    .map({False: 0, True: 1})\n",
    ")\n",
    "\n",
    "#кодируем проверку телефона\n",
    "work_data['phone_check'] = \\\n",
    "(\n",
    "    work_data\n",
    "    .phone_check\n",
    "    .map({False: 0, True: 1})\n",
    ")"
   ]
  },
  {
   "cell_type": "code",
   "execution_count": 395,
   "id": "50c9ada0",
   "metadata": {},
   "outputs": [],
   "source": [
    "# features_type = \\\n",
    "# {\n",
    "#     'day_of_week': 'cat'\n",
    "#     ,'hour': 'cat'\n",
    "#     ,'email_domain': 'cat'\n",
    "#     ,'version_id': 'real'\n",
    "#     ,'flag_analytics_id': 'real'\n",
    "#     ,'flag_MERGE_LEAD': 'real'\n",
    "#     ,'sourceCode': 'cat'\n",
    "#     ,'flag_campaign': 'real'\n",
    "#     ,'medium': 'cat'\n",
    "#     ,'flag_term': 'real'\n",
    "#     ,'flag_utm_content': 'real'\n",
    "#     ,'flag_utm_keyword': 'real'\n",
    "#     ,'flag_lead_form': 'real'\n",
    "#     ,'Country_IP': 'cat' #matomo                  \n",
    "#     ,'Region_IP': 'cat' #matomo \n",
    "#     ,'URL_domen': 'cat' \n",
    "#     ,'visitDuration': 'real' #matomo \n",
    "#     ,'searches': 'real'#matomo \n",
    "#     ,'actions': 'real'#matomo \n",
    "#     ,'interactions': 'real'#matomo \n",
    "#     ,'visitLocalHour': 'cat'#matomo \n",
    "#     ,'languageCode': 'cat'#matomo \n",
    "#     ,'deviceType': 'cat'#matomo \n",
    "#     ,'deviceBrand': 'cat'#matomo \n",
    "#     ,'operatingSystemName': 'cat'#matomo \n",
    "#     ,'browserFamily': 'cat'#matomo \n",
    "#     ,'continent': 'cat'#matomo \n",
    "#     ,'daysSinceLastVisit': 'real'#matomo \n",
    "#     ,'secondsSinceLastVisit': 'real'#matomo \n",
    "#     ,'title_check': 'real'\n",
    "#     ,'title_alpha_unique_share': 'real'\n",
    "#     ,'title_alpha_upper_share': 'real'\n",
    "#     ,'title_length': 'real'\n",
    "#     ,'title_word_count': 'real'\n",
    "#     ,'title_has_cyrillic_letter': 'real'\n",
    "#     ,'title_has_engl_letter': 'real'\n",
    "#     ,'phone_check': 'real'\n",
    "#     ,'PHONE_digit_unique_share': 'real'\n",
    "#     ,'PHONE_length': 'real' \n",
    "#     ,'time_fst_act-lead': 'real'  #matomo-lend\n",
    "# }"
   ]
  },
  {
   "cell_type": "code",
   "execution_count": 396,
   "id": "c22dd5b1",
   "metadata": {},
   "outputs": [],
   "source": [
    "scale_features_ab = ['day_of_week',\n",
    "                     'email_domain',\n",
    "                     'sourceCode',\n",
    "                     'medium',\n",
    "                     'Country_IP',\n",
    "                     'Region_IP',\n",
    "                     'URL_domen',\n",
    "                     'title_length',\n",
    "                     'title_length',\n",
    "                     'PHONE_length',\n",
    "                     'hour'\n",
    "                    ]"
   ]
  },
  {
   "cell_type": "markdown",
   "id": "3bf604a0",
   "metadata": {},
   "source": [
    "# TRAIN TEST SPLIT"
   ]
  },
  {
   "cell_type": "code",
   "execution_count": 397,
   "id": "6e0a887a",
   "metadata": {},
   "outputs": [],
   "source": [
    "train = work_data[work_data['datetime_leadcreated'] < '2022-08-01']\n",
    "test = work_data[(work_data['datetime_leadcreated'] >= '2022-08-01') & ((work_data['datetime_leadcreated'] < '2022-11-01'))]"
   ]
  },
  {
   "cell_type": "code",
   "execution_count": 398,
   "id": "23d35d1c",
   "metadata": {},
   "outputs": [
    {
     "name": "stdout",
     "output_type": "stream",
     "text": [
      "2022-03-01 00:02:59 2022-07-31 23:59:57\n",
      "2022-08-01 00:04:20 2022-10-05 23:58:56\n"
     ]
    }
   ],
   "source": [
    "print (min(train['datetime_leadcreated']), max(train['datetime_leadcreated']))\n",
    "#print (min(valid['datetime_leadcreated']), max(valid['datetime_leadcreated']))\n",
    "print (min(test['datetime_leadcreated']), max(test['datetime_leadcreated']))"
   ]
  },
  {
   "cell_type": "markdown",
   "id": "e9ef8660",
   "metadata": {},
   "source": [
    "# ----------------------------- ----------------------------- -----------------------------\n",
    "# ----------------------------- ----------------------------- ----------------------------- "
   ]
  },
  {
   "cell_type": "markdown",
   "id": "7e57a517",
   "metadata": {},
   "source": [
    "# target encoding"
   ]
  },
  {
   "cell_type": "code",
   "execution_count": 399,
   "id": "42070a7e",
   "metadata": {},
   "outputs": [],
   "source": [
    "import category_encoders as ce\n",
    "from sklearn.preprocessing import StandardScaler"
   ]
  },
  {
   "cell_type": "code",
   "execution_count": 403,
   "id": "19294b83",
   "metadata": {},
   "outputs": [],
   "source": [
    "cat_features_ab = ['day_of_week',\n",
    " 'email_domain',\n",
    " 'sourceCode',\n",
    " 'medium',\n",
    " 'Country_IP',\n",
    " 'Region_IP',\n",
    " 'URL_domen',\n",
    " 'title_length',\n",
    " 'PHONE_length',\n",
    "'hour']"
   ]
  },
  {
   "cell_type": "code",
   "execution_count": 404,
   "id": "46627b59",
   "metadata": {},
   "outputs": [],
   "source": [
    "tenc=ce.TargetEncoder() "
   ]
  },
  {
   "cell_type": "code",
   "execution_count": 405,
   "id": "cdf25b82",
   "metadata": {},
   "outputs": [
    {
     "name": "stdout",
     "output_type": "stream",
     "text": [
      "CPU times: total: 8.36 s\n",
      "Wall time: 8.36 s\n"
     ]
    }
   ],
   "source": [
    "%%time\n",
    "encoded_train = tenc.fit_transform(train[cat_features_ab], train['SPAM_flag'])"
   ]
  },
  {
   "cell_type": "code",
   "execution_count": 406,
   "id": "bce6529e",
   "metadata": {},
   "outputs": [
    {
     "name": "stdout",
     "output_type": "stream",
     "text": [
      "CPU times: total: 469 ms\n",
      "Wall time: 472 ms\n"
     ]
    }
   ],
   "source": [
    "%%time\n",
    "encoded_test = tenc.transform(test[cat_features_ab], test['SPAM_flag'])"
   ]
  },
  {
   "cell_type": "code",
   "execution_count": 407,
   "id": "3a672eca",
   "metadata": {},
   "outputs": [],
   "source": [
    "train[cat_features_ab] = encoded_train\n",
    "test[cat_features_ab] = encoded_test"
   ]
  },
  {
   "cell_type": "markdown",
   "id": "5498f52a",
   "metadata": {},
   "source": [
    "# std scaler"
   ]
  },
  {
   "cell_type": "code",
   "execution_count": 408,
   "id": "88bf7160",
   "metadata": {},
   "outputs": [],
   "source": [
    "scaler = StandardScaler()"
   ]
  },
  {
   "cell_type": "code",
   "execution_count": 409,
   "id": "368248cb",
   "metadata": {},
   "outputs": [
    {
     "name": "stdout",
     "output_type": "stream",
     "text": [
      "CPU times: total: 78.1 ms\n",
      "Wall time: 75 ms\n"
     ]
    }
   ],
   "source": [
    "%%time\n",
    "#на трейне\n",
    "scaled_train = scaler.fit_transform(train[scale_features_ab])"
   ]
  },
  {
   "cell_type": "code",
   "execution_count": 410,
   "id": "2088afcf",
   "metadata": {},
   "outputs": [
    {
     "name": "stdout",
     "output_type": "stream",
     "text": [
      "CPU times: total: 15.6 ms\n",
      "Wall time: 24 ms\n"
     ]
    }
   ],
   "source": [
    "%%time \n",
    "#на тесте + аб тест\n",
    "scaled_test = scaler.transform(test[scale_features_ab])\n",
    "#scaled_ab = scaler.transform(work_data_ab[scale_features_ab])"
   ]
  },
  {
   "cell_type": "code",
   "execution_count": 411,
   "id": "315899c8",
   "metadata": {},
   "outputs": [],
   "source": [
    "train[scale_features_ab] = scaled_train\n",
    "test[scale_features_ab] = scaled_test\n",
    "#work_data_ab[scale_features_ab] = scaled_ab"
   ]
  },
  {
   "cell_type": "markdown",
   "id": "81d34111",
   "metadata": {},
   "source": [
    "#  ----------------------------- ----------------------------- -----------------------------\n",
    "# ----------------------------- ----------------------------- -----------------------------"
   ]
  },
  {
   "cell_type": "markdown",
   "id": "7d24c9a9",
   "metadata": {},
   "source": [
    "# ###################################\n",
    "# LAMA MODEL\n",
    "# ###################################"
   ]
  },
  {
   "cell_type": "code",
   "execution_count": 412,
   "id": "9c7e6d4f",
   "metadata": {},
   "outputs": [],
   "source": [
    "task = Task('binary', metric = roc_auc_score)\n",
    "roles = {'target': 'SPAM_flag'}\n",
    "automl = TabularAutoML(task = task, \n",
    "                       timeout = 600, # 1800 seconds = 30 minutes\n",
    "                       cpu_limit = -1, # Optimal for Kaggle kernels\n",
    "                       general_params = {'use_algos': [['catboost','lgb', 'lgb_tuned']]}\n",
    "                      )"
   ]
  },
  {
   "cell_type": "code",
   "execution_count": 413,
   "id": "2f322ac7",
   "metadata": {
    "scrolled": true
   },
   "outputs": [
    {
     "name": "stdout",
     "output_type": "stream",
     "text": [
      "CPU times: total: 1h 23min 17s\n",
      "Wall time: 5min 32s\n"
     ]
    }
   ],
   "source": [
    "%%time\n",
    "oof_pred = automl.fit_predict(train[top_15_features + ['SPAM_flag']], roles = roles)"
   ]
  },
  {
   "cell_type": "code",
   "execution_count": 375,
   "id": "542685a9",
   "metadata": {},
   "outputs": [],
   "source": [
    "# %%time\n",
    "# valid_pred = automl.predict(valid[features + ['SPAM_flag']])"
   ]
  },
  {
   "cell_type": "code",
   "execution_count": 324,
   "id": "f9f13596",
   "metadata": {},
   "outputs": [
    {
     "name": "stdout",
     "output_type": "stream",
     "text": [
      "CPU times: total: 1min 13s\n",
      "Wall time: 6.49 s\n"
     ]
    }
   ],
   "source": [
    "%%time\n",
    "test_pred = automl.predict(work_data_ab[top_15_features + ['SPAM_flag']])"
   ]
  },
  {
   "cell_type": "code",
   "execution_count": 385,
   "id": "a10c415d",
   "metadata": {},
   "outputs": [
    {
     "data": {
      "text/html": [
       "<div>\n",
       "<style scoped>\n",
       "    .dataframe tbody tr th:only-of-type {\n",
       "        vertical-align: middle;\n",
       "    }\n",
       "\n",
       "    .dataframe tbody tr th {\n",
       "        vertical-align: top;\n",
       "    }\n",
       "\n",
       "    .dataframe thead th {\n",
       "        text-align: right;\n",
       "    }\n",
       "</style>\n",
       "<table border=\"1\" class=\"dataframe\">\n",
       "  <thead>\n",
       "    <tr style=\"text-align: right;\">\n",
       "      <th></th>\n",
       "      <th>phone_check</th>\n",
       "      <th>sourceCode</th>\n",
       "      <th>title_check</th>\n",
       "      <th>Region_IP</th>\n",
       "      <th>flag_campaign</th>\n",
       "      <th>PHONE_digit_unique_share</th>\n",
       "      <th>Country_IP</th>\n",
       "      <th>email_domain</th>\n",
       "      <th>title_length</th>\n",
       "      <th>title_alpha_upper_share</th>\n",
       "      <th>flag_MERGE_LEAD</th>\n",
       "      <th>hour</th>\n",
       "      <th>title_alpha_unique_share</th>\n",
       "      <th>title_has_cyrillic_letter</th>\n",
       "      <th>PHONE_length</th>\n",
       "    </tr>\n",
       "  </thead>\n",
       "  <tbody>\n",
       "    <tr>\n",
       "      <th>1</th>\n",
       "      <td>NaN</td>\n",
       "      <td>-0.587506</td>\n",
       "      <td>NaN</td>\n",
       "      <td>-0.650305</td>\n",
       "      <td>1</td>\n",
       "      <td>0.333333</td>\n",
       "      <td>-0.404078</td>\n",
       "      <td>-0.468858</td>\n",
       "      <td>1.163771</td>\n",
       "      <td>0.058824</td>\n",
       "      <td>1</td>\n",
       "      <td>7</td>\n",
       "      <td>0.647059</td>\n",
       "      <td>NaN</td>\n",
       "      <td>0.729746</td>\n",
       "    </tr>\n",
       "    <tr>\n",
       "      <th>3</th>\n",
       "      <td>NaN</td>\n",
       "      <td>-0.769653</td>\n",
       "      <td>NaN</td>\n",
       "      <td>-0.693020</td>\n",
       "      <td>1</td>\n",
       "      <td>0.545455</td>\n",
       "      <td>-0.404078</td>\n",
       "      <td>-0.512746</td>\n",
       "      <td>-0.730190</td>\n",
       "      <td>0.200000</td>\n",
       "      <td>1</td>\n",
       "      <td>7</td>\n",
       "      <td>1.000000</td>\n",
       "      <td>NaN</td>\n",
       "      <td>0.122612</td>\n",
       "    </tr>\n",
       "    <tr>\n",
       "      <th>7</th>\n",
       "      <td>NaN</td>\n",
       "      <td>-0.814712</td>\n",
       "      <td>NaN</td>\n",
       "      <td>-0.561652</td>\n",
       "      <td>1</td>\n",
       "      <td>0.727273</td>\n",
       "      <td>-0.404078</td>\n",
       "      <td>-0.468858</td>\n",
       "      <td>-0.730190</td>\n",
       "      <td>0.200000</td>\n",
       "      <td>1</td>\n",
       "      <td>8</td>\n",
       "      <td>1.000000</td>\n",
       "      <td>NaN</td>\n",
       "      <td>0.122612</td>\n",
       "    </tr>\n",
       "    <tr>\n",
       "      <th>13</th>\n",
       "      <td>NaN</td>\n",
       "      <td>-0.769653</td>\n",
       "      <td>NaN</td>\n",
       "      <td>1.036134</td>\n",
       "      <td>1</td>\n",
       "      <td>0.666667</td>\n",
       "      <td>-0.597464</td>\n",
       "      <td>0.716575</td>\n",
       "      <td>1.353167</td>\n",
       "      <td>0.117647</td>\n",
       "      <td>1</td>\n",
       "      <td>8</td>\n",
       "      <td>0.705882</td>\n",
       "      <td>NaN</td>\n",
       "      <td>0.729746</td>\n",
       "    </tr>\n",
       "    <tr>\n",
       "      <th>15</th>\n",
       "      <td>NaN</td>\n",
       "      <td>-0.769653</td>\n",
       "      <td>NaN</td>\n",
       "      <td>-0.749150</td>\n",
       "      <td>1</td>\n",
       "      <td>0.636364</td>\n",
       "      <td>-0.404078</td>\n",
       "      <td>-0.366905</td>\n",
       "      <td>-0.919586</td>\n",
       "      <td>0.250000</td>\n",
       "      <td>1</td>\n",
       "      <td>8</td>\n",
       "      <td>0.750000</td>\n",
       "      <td>NaN</td>\n",
       "      <td>0.122612</td>\n",
       "    </tr>\n",
       "  </tbody>\n",
       "</table>\n",
       "</div>"
      ],
      "text/plain": [
       "    phone_check  sourceCode  title_check  Region_IP  flag_campaign  \\\n",
       "1           NaN   -0.587506          NaN  -0.650305              1   \n",
       "3           NaN   -0.769653          NaN  -0.693020              1   \n",
       "7           NaN   -0.814712          NaN  -0.561652              1   \n",
       "13          NaN   -0.769653          NaN   1.036134              1   \n",
       "15          NaN   -0.769653          NaN  -0.749150              1   \n",
       "\n",
       "    PHONE_digit_unique_share  Country_IP  email_domain  title_length  \\\n",
       "1                   0.333333   -0.404078     -0.468858      1.163771   \n",
       "3                   0.545455   -0.404078     -0.512746     -0.730190   \n",
       "7                   0.727273   -0.404078     -0.468858     -0.730190   \n",
       "13                  0.666667   -0.597464      0.716575      1.353167   \n",
       "15                  0.636364   -0.404078     -0.366905     -0.919586   \n",
       "\n",
       "    title_alpha_upper_share  flag_MERGE_LEAD  hour  title_alpha_unique_share  \\\n",
       "1                  0.058824                1     7                  0.647059   \n",
       "3                  0.200000                1     7                  1.000000   \n",
       "7                  0.200000                1     8                  1.000000   \n",
       "13                 0.117647                1     8                  0.705882   \n",
       "15                 0.250000                1     8                  0.750000   \n",
       "\n",
       "    title_has_cyrillic_letter  PHONE_length  \n",
       "1                         NaN      0.729746  \n",
       "3                         NaN      0.122612  \n",
       "7                         NaN      0.122612  \n",
       "13                        NaN      0.729746  \n",
       "15                        NaN      0.122612  "
      ]
     },
     "execution_count": 385,
     "metadata": {},
     "output_type": "execute_result"
    }
   ],
   "source": [
    "train[top_15_features].head()"
   ]
  },
  {
   "cell_type": "markdown",
   "id": "c0e4d8bf",
   "metadata": {},
   "source": [
    "# ###################################\n",
    "# МЕТРИКИ\n",
    "# ###################################"
   ]
  },
  {
   "cell_type": "markdown",
   "id": "9de3624d",
   "metadata": {},
   "source": [
    "### 01.03.2022-31.07.2022 с предобработкой топ фичи"
   ]
  },
  {
   "cell_type": "code",
   "execution_count": 154,
   "id": "f442b42f",
   "metadata": {},
   "outputs": [
    {
     "name": "stdout",
     "output_type": "stream",
     "text": [
      "OOF ROC_AUC: 0.9830716495250128\n",
      "TEST ROC_AUC: 0.9703965549312579\n"
     ]
    }
   ],
   "source": [
    "print('OOF ROC_AUC: {}'.format(roc_auc_score(train['SPAM_flag'].values, oof_pred.data[:, 0])))\n",
    "\n",
    "print('TEST ROC_AUC: {}'.format(roc_auc_score(test['SPAM_flag'].values,  test_pred.data[:, 0])))\n",
    "\n",
    "#print('VAL ROC_AUC: {}'.format(roc_auc_score(work_data_ab['SPAM_flag'].values, ab_pred.data[:, 0])))"
   ]
  },
  {
   "cell_type": "code",
   "execution_count": 230,
   "id": "4c47563b",
   "metadata": {},
   "outputs": [
    {
     "name": "stdout",
     "output_type": "stream",
     "text": [
      "OOF ROC_AUC: 0.9829782764136321\n",
      "TEST ROC_AUC: 0.9697937700846644\n"
     ]
    }
   ],
   "source": [
    "print('OOF ROC_AUC: {}'.format(roc_auc_score(train['SPAM_flag'].values, oof_pred.data[:, 0])))\n",
    "\n",
    "print('TEST ROC_AUC: {}'.format(roc_auc_score(test['SPAM_flag'].values,  test_pred.data[:, 0])))"
   ]
  },
  {
   "cell_type": "markdown",
   "id": "1f651755",
   "metadata": {},
   "source": [
    "# ###################################\n",
    "# FEATURE IMPORTANCE\n",
    "# ###################################"
   ]
  },
  {
   "cell_type": "code",
   "execution_count": 380,
   "id": "3d153102",
   "metadata": {},
   "outputs": [],
   "source": [
    "features_importance = \\\n",
    "(\n",
    "    automl\n",
    "    .get_feature_scores()\n",
    "    .sort_values('Importance', ascending=False)\n",
    ")"
   ]
  },
  {
   "cell_type": "code",
   "execution_count": 381,
   "id": "2e64856e",
   "metadata": {},
   "outputs": [],
   "source": [
    "features_importance['Importance'] = \\\n",
    "(\n",
    "    features_importance['Importance']/features_importance['Importance'].sum()\n",
    ")"
   ]
  },
  {
   "cell_type": "code",
   "execution_count": 382,
   "id": "114a0270",
   "metadata": {},
   "outputs": [],
   "source": [
    "features_importance = features_importance['Feature'].tolist()"
   ]
  },
  {
   "cell_type": "code",
   "execution_count": 383,
   "id": "17e83fa9",
   "metadata": {},
   "outputs": [
    {
     "data": {
      "text/plain": [
       "['flag_MERGE_LEAD',\n",
       " 'sourceCode',\n",
       " 'Region_IP',\n",
       " 'PHONE_length',\n",
       " 'PHONE_digit_unique_share',\n",
       " 'email_domain',\n",
       " 'title_length',\n",
       " 'title_alpha_upper_share',\n",
       " 'Country_IP',\n",
       " 'title_alpha_unique_share',\n",
       " 'hour',\n",
       " 'flag_campaign']"
      ]
     },
     "execution_count": 383,
     "metadata": {},
     "output_type": "execute_result"
    }
   ],
   "source": [
    "features_importance"
   ]
  },
  {
   "cell_type": "code",
   "execution_count": 115,
   "id": "4e6409e9",
   "metadata": {},
   "outputs": [],
   "source": [
    "top_15_features = features_importance[:15]"
   ]
  },
  {
   "cell_type": "code",
   "execution_count": 889,
   "id": "8836122e",
   "metadata": {},
   "outputs": [
    {
     "name": "stdout",
     "output_type": "stream",
     "text": [
      "VAL ROC_AUC: 0.7101592968575724\n",
      "VAL ROC_AUC: 0.8738186252346506\n",
      "VAL ROC_AUC: 0.8940544068681289\n",
      "VAL ROC_AUC: 0.9066109827501783\n",
      "VAL ROC_AUC: 0.9031904281534451\n",
      "VAL ROC_AUC: 0.9161300725013857\n",
      "VAL ROC_AUC: 0.9243273621423533\n",
      "VAL ROC_AUC: 0.9264742903468665\n",
      "VAL ROC_AUC: 0.9252571443957092\n",
      "VAL ROC_AUC: 0.9274752073093331\n",
      "VAL ROC_AUC: 0.9276320758412638\n",
      "VAL ROC_AUC: 0.9254438538230072\n",
      "VAL ROC_AUC: 0.9232871153402116\n",
      "VAL ROC_AUC: 0.9330637806501775\n",
      "VAL ROC_AUC: 0.9330371938608061\n",
      "VAL ROC_AUC: 0.9315123922111561\n",
      "VAL ROC_AUC: 0.9315878337547316\n",
      "VAL ROC_AUC: 0.9326516914099582\n",
      "VAL ROC_AUC: 0.9327559403045502\n",
      "VAL ROC_AUC: 0.9316917469272606\n",
      "VAL ROC_AUC: 0.9267175305735369\n",
      "VAL ROC_AUC: 0.9297295929521541\n",
      "VAL ROC_AUC: 0.927759767727909\n",
      "VAL ROC_AUC: 0.927346136564215\n",
      "VAL ROC_AUC: 0.9354527884422289\n",
      "VAL ROC_AUC: 0.9362900960533436\n",
      "VAL ROC_AUC: 0.9387736048100876\n",
      "VAL ROC_AUC: 0.936625204224527\n",
      "VAL ROC_AUC: 0.9399672981771328\n",
      "VAL ROC_AUC: 0.9394905464695738\n",
      "VAL ROC_AUC: 0.9388000117483538\n",
      "VAL ROC_AUC: 0.9384126628261596\n",
      "VAL ROC_AUC: 0.9385736967096858\n",
      "VAL ROC_AUC: 0.9385092524616867\n",
      "VAL ROC_AUC: 0.9389051479083977\n",
      "VAL ROC_AUC: 0.9411076596964628\n",
      "VAL ROC_AUC: 0.9388583626409103\n",
      "VAL ROC_AUC: 0.9380884536319487\n",
      "VAL ROC_AUC: 0.9405972038917976\n",
      "VAL ROC_AUC: 0.9386026887078367\n",
      "VAL ROC_AUC: 0.9422136864408113\n",
      "VAL ROC_AUC: 0.9410329639354698\n"
     ]
    },
    {
     "data": {
      "image/png": "[encoded data removed]",
      "text/plain": [
       "<Figure size 720x360 with 1 Axes>"
      ]
     },
     "metadata": {
      "needs_background": "light"
     },
     "output_type": "display_data"
    },
    {
     "name": "stdout",
     "output_type": "stream",
     "text": [
      "CPU times: total: 2d 10h 46min 46s\n",
      "Wall time: 3h 48min 35s\n"
     ]
    }
   ],
   "source": [
    "%%time\n",
    "best_features(train, test, features_importance)"
   ]
  },
  {
   "cell_type": "markdown",
   "id": "9a60e6e2",
   "metadata": {},
   "source": [
    "\n",
    "\n",
    "# ###################################"
   ]
  },
  {
   "cell_type": "markdown",
   "id": "418d4c39",
   "metadata": {},
   "source": [
    "\n",
    "# ###################################"
   ]
  },
  {
   "cell_type": "markdown",
   "id": "d6650137",
   "metadata": {},
   "source": [
    "# подгрузка данных для A/B"
   ]
  },
  {
   "cell_type": "markdown",
   "id": "76f2d4f4",
   "metadata": {},
   "source": [
    "#### white box "
   ]
  },
  {
   "cell_type": "code",
   "execution_count": 3,
   "id": "c8dd07cd",
   "metadata": {},
   "outputs": [
    {
     "name": "stdout",
     "output_type": "stream",
     "text": [
      "CPU times: total: 2.48 s\n",
      "Wall time: 3.45 s\n"
     ]
    }
   ],
   "source": [
    "%%time\n",
    "# данные с нормерами лидов и статусом от white box модели\n",
    "leads_wb = pd.DataFrame()\n",
    "\n",
    "with pymssql.connect(host='MSK1-ADB01', database='Analytic', charset=\"cp1251\") as conn:\n",
    "    leads_wb = pd.read_sql_query(\"SELECT * FROM dbo.TT_need with (nolock)\", conn)"
   ]
  },
  {
   "cell_type": "code",
   "execution_count": 4,
   "id": "4caa26ff",
   "metadata": {},
   "outputs": [],
   "source": [
    "leads_wb['DATE_CREATE'] = pd.to_datetime(leads_wb['DATE_CREATE'])"
   ]
  },
  {
   "cell_type": "code",
   "execution_count": 5,
   "id": "f8af6370",
   "metadata": {},
   "outputs": [],
   "source": [
    "#выделяю нужные даные из контрольной выборки для а/б теста\n",
    "leads_wb_ab = \\\n",
    "(\n",
    "    leads_wb[(leads_wb.sample_type == '2_контрольная выборка')\n",
    "             &(leads_wb.DATE_CREATE >='2022-08-01')]\n",
    ")"
   ]
  },
  {
   "cell_type": "code",
   "execution_count": 418,
   "id": "2b90a865",
   "metadata": {},
   "outputs": [
    {
     "data": {
      "text/plain": [
       "(98515, 6)"
      ]
     },
     "execution_count": 418,
     "metadata": {},
     "output_type": "execute_result"
    }
   ],
   "source": [
    "leads_wb_ab.shape"
   ]
  },
  {
   "cell_type": "markdown",
   "id": "85c4f4b3",
   "metadata": {},
   "source": [
    "#### df_lead + leads_wb (берем их пересечение)"
   ]
  },
  {
   "cell_type": "code",
   "execution_count": 419,
   "id": "d1da09d1",
   "metadata": {},
   "outputs": [],
   "source": [
    "work_data_ab = test.merge(leads_wb_ab, left_on ='id_lead', right_on = 'lead_id', how ='inner')"
   ]
  },
  {
   "cell_type": "code",
   "execution_count": 420,
   "id": "fbd57132",
   "metadata": {},
   "outputs": [
    {
     "data": {
      "text/plain": [
       "(15826, 51)"
      ]
     },
     "execution_count": 420,
     "metadata": {},
     "output_type": "execute_result"
    }
   ],
   "source": [
    "work_data_ab.shape"
   ]
  },
  {
   "cell_type": "code",
   "execution_count": 421,
   "id": "9240dfde",
   "metadata": {},
   "outputs": [],
   "source": [
    "work_data_ab = work_data_ab[work_data_ab['lead_status'].isin(['Сконвертирован', 'Перезвон', 'Перспектива', 'Спам'])]"
   ]
  },
  {
   "cell_type": "markdown",
   "id": "95f25367",
   "metadata": {},
   "source": [
    "# ----------------------------------\n",
    "# data prep\n",
    "# ----------------------------------"
   ]
  },
  {
   "cell_type": "code",
   "execution_count": 435,
   "id": "6d1719e0",
   "metadata": {},
   "outputs": [
    {
     "name": "stdout",
     "output_type": "stream",
     "text": [
      "CPU times: total: 15.6 ms\n",
      "Wall time: 7.01 ms\n"
     ]
    }
   ],
   "source": [
    "%%time\n",
    "#заменяем таргет\n",
    "work_data_ab['SPAM_flag_wb'] = \\\n",
    "(\n",
    "    pd\n",
    "    .Series(work_data_ab['lead_status_type'] =='1_спам, не ставили в CRM')\n",
    "    .map({False: 0, True: 1})\n",
    ")"
   ]
  },
  {
   "cell_type": "code",
   "execution_count": 434,
   "id": "58fa69d7",
   "metadata": {},
   "outputs": [
    {
     "data": {
      "text/plain": [
       "3_не спам                   14774\n",
       "1_спам, не ставили в CRM     1052\n",
       "Name: lead_status_type, dtype: int64"
      ]
     },
     "execution_count": 434,
     "metadata": {},
     "output_type": "execute_result"
    }
   ],
   "source": [
    "work_data_ab['lead_status_type'].value_counts()"
   ]
  },
  {
   "cell_type": "code",
   "execution_count": 431,
   "id": "bbd8101c",
   "metadata": {},
   "outputs": [
    {
     "data": {
      "text/plain": [
       "0    12837\n",
       "1     2989\n",
       "Name: SPAM_flag, dtype: int64"
      ]
     },
     "execution_count": 431,
     "metadata": {},
     "output_type": "execute_result"
    }
   ],
   "source": [
    "work_data_ab['SPAM_flag'].value_counts()"
   ]
  },
  {
   "cell_type": "code",
   "execution_count": 1,
   "id": "635e368d",
   "metadata": {},
   "outputs": [
    {
     "ename": "NameError",
     "evalue": "name 'work_data_ab' is not defined",
     "output_type": "error",
     "traceback": [
      "\u001b[1;31m---------------------------------------------------------------------------\u001b[0m",
      "\u001b[1;31mNameError\u001b[0m                                 Traceback (most recent call last)",
      "Input \u001b[1;32mIn [1]\u001b[0m, in \u001b[0;36m<cell line: 1>\u001b[1;34m()\u001b[0m\n\u001b[1;32m----> 1\u001b[0m \u001b[43mwork_data_ab\u001b[49m[\u001b[38;5;124m'\u001b[39m\u001b[38;5;124mSPAM_flag_wb\u001b[39m\u001b[38;5;124m'\u001b[39m]\u001b[38;5;241m.\u001b[39mvalue_counts()\n",
      "\u001b[1;31mNameError\u001b[0m: name 'work_data_ab' is not defined"
     ]
    }
   ],
   "source": [
    "work_data_ab['SPAM_flag_wb'].value_counts()"
   ]
  },
  {
   "cell_type": "markdown",
   "id": "b242c14b",
   "metadata": {},
   "source": [
    "## ----------------------------------\n",
    "## LAMA PREDICT\n",
    "## ----------------------------------"
   ]
  },
  {
   "cell_type": "code",
   "execution_count": 425,
   "id": "4104a306",
   "metadata": {},
   "outputs": [
    {
     "name": "stdout",
     "output_type": "stream",
     "text": [
      "CPU times: total: 7.14 s\n",
      "Wall time: 805 ms\n"
     ]
    }
   ],
   "source": [
    "%%time\n",
    "ab_pred = automl.predict(work_data_ab[top_15_features + ['SPAM_flag']])"
   ]
  },
  {
   "cell_type": "code",
   "execution_count": 436,
   "id": "4f2c04fd",
   "metadata": {},
   "outputs": [
    {
     "name": "stdout",
     "output_type": "stream",
     "text": [
      "BB ROC_AUC: 0.9610318851602875\n",
      "WB ROC_AUC: 0.6557680543129331\n"
     ]
    }
   ],
   "source": [
    "#print('OOF ROC_AUC: {}'.format(roc_auc_score(train['SPAM_flag'].values, oof_pred.data[:, 0])))\n",
    "\n",
    "#print('TEST ROC_AUC: {}'.format(roc_auc_score(test['SPAM_flag'].values,  test_pred.data[:, 0])))\n",
    "\n",
    "print('BB ROC_AUC: {}'.format(roc_auc_score(work_data_ab['SPAM_flag'].values, ab_pred.data[:, 0])))\n",
    "print('WB ROC_AUC: {}'.format(roc_auc_score(work_data_ab['SPAM_flag'].values, work_data_ab['SPAM_flag_wb'].values)))"
   ]
  },
  {
   "cell_type": "code",
   "execution_count": 437,
   "id": "288f84b2",
   "metadata": {},
   "outputs": [],
   "source": [
    "work_data_ab['spam_proba'] = ab_pred.data[:,0]"
   ]
  },
  {
   "cell_type": "markdown",
   "id": "3cb81dfd",
   "metadata": {},
   "source": [
    "# ---------------------------"
   ]
  },
  {
   "cell_type": "code",
   "execution_count": 443,
   "id": "b22b3040",
   "metadata": {},
   "outputs": [],
   "source": [
    "bb_metrics = metrics_bb(work_data_ab, need_department)\n",
    "bb_metrics.to_excel('metrics_bb_new.xlsx')"
   ]
  },
  {
   "cell_type": "code",
   "execution_count": 442,
   "id": "07acebd2",
   "metadata": {},
   "outputs": [],
   "source": [
    "wb_metrics = metrics_wb(work_data_ab, need_department)\n",
    "wb_metrics.to_excel('metrics_wb_new.xlsx')"
   ]
  },
  {
   "cell_type": "markdown",
   "id": "8930fb17",
   "metadata": {},
   "source": [
    "# ##############################\n",
    "# AUTOWOE"
   ]
  },
  {
   "cell_type": "code",
   "execution_count": 585,
   "id": "021905b7",
   "metadata": {},
   "outputs": [],
   "source": [
    "from autowoe import ReportDeco, AutoWoE"
   ]
  },
  {
   "cell_type": "code",
   "execution_count": 587,
   "id": "fcf1b1c3",
   "metadata": {},
   "outputs": [
    {
     "data": {
      "text/html": [
       "<div>\n",
       "<style scoped>\n",
       "    .dataframe tbody tr th:only-of-type {\n",
       "        vertical-align: middle;\n",
       "    }\n",
       "\n",
       "    .dataframe tbody tr th {\n",
       "        vertical-align: top;\n",
       "    }\n",
       "\n",
       "    .dataframe thead th {\n",
       "        text-align: right;\n",
       "    }\n",
       "</style>\n",
       "<table border=\"1\" class=\"dataframe\">\n",
       "  <thead>\n",
       "    <tr style=\"text-align: right;\">\n",
       "      <th></th>\n",
       "      <th>phone_check</th>\n",
       "      <th>sourceCode</th>\n",
       "      <th>title_check</th>\n",
       "      <th>Region_IP</th>\n",
       "      <th>flag_campaign</th>\n",
       "      <th>PHONE_digit_unique_share</th>\n",
       "      <th>Country_IP</th>\n",
       "      <th>email_domain</th>\n",
       "      <th>title_length</th>\n",
       "      <th>title_alpha_upper_share</th>\n",
       "      <th>flag_MERGE_LEAD</th>\n",
       "      <th>hour</th>\n",
       "      <th>title_alpha_unique_share</th>\n",
       "      <th>title_has_cyrillic_letter</th>\n",
       "      <th>PHONE_length</th>\n",
       "    </tr>\n",
       "  </thead>\n",
       "  <tbody>\n",
       "    <tr>\n",
       "      <th>71551</th>\n",
       "      <td>1</td>\n",
       "      <td>1.493859</td>\n",
       "      <td>1</td>\n",
       "      <td>-0.387088</td>\n",
       "      <td>0</td>\n",
       "      <td>0.454545</td>\n",
       "      <td>-0.244787</td>\n",
       "      <td>-0.291608</td>\n",
       "      <td>-0.848664</td>\n",
       "      <td>0.250000</td>\n",
       "      <td>1</td>\n",
       "      <td>18</td>\n",
       "      <td>0.750000</td>\n",
       "      <td>1</td>\n",
       "      <td>-0.127599</td>\n",
       "    </tr>\n",
       "    <tr>\n",
       "      <th>71552</th>\n",
       "      <td>1</td>\n",
       "      <td>-0.263820</td>\n",
       "      <td>1</td>\n",
       "      <td>-0.506700</td>\n",
       "      <td>1</td>\n",
       "      <td>0.636364</td>\n",
       "      <td>-0.244787</td>\n",
       "      <td>-0.291608</td>\n",
       "      <td>-0.456309</td>\n",
       "      <td>0.166667</td>\n",
       "      <td>1</td>\n",
       "      <td>18</td>\n",
       "      <td>1.000000</td>\n",
       "      <td>1</td>\n",
       "      <td>-0.127599</td>\n",
       "    </tr>\n",
       "    <tr>\n",
       "      <th>71553</th>\n",
       "      <td>1</td>\n",
       "      <td>-0.507608</td>\n",
       "      <td>1</td>\n",
       "      <td>-0.381225</td>\n",
       "      <td>1</td>\n",
       "      <td>0.454545</td>\n",
       "      <td>-0.244787</td>\n",
       "      <td>-0.291608</td>\n",
       "      <td>-0.063954</td>\n",
       "      <td>0.125000</td>\n",
       "      <td>0</td>\n",
       "      <td>18</td>\n",
       "      <td>0.875000</td>\n",
       "      <td>1</td>\n",
       "      <td>-0.127599</td>\n",
       "    </tr>\n",
       "    <tr>\n",
       "      <th>71555</th>\n",
       "      <td>1</td>\n",
       "      <td>-0.380860</td>\n",
       "      <td>1</td>\n",
       "      <td>0.923364</td>\n",
       "      <td>1</td>\n",
       "      <td>0.727273</td>\n",
       "      <td>-0.244787</td>\n",
       "      <td>-0.072259</td>\n",
       "      <td>1.113111</td>\n",
       "      <td>0.133333</td>\n",
       "      <td>0</td>\n",
       "      <td>18</td>\n",
       "      <td>0.666667</td>\n",
       "      <td>0</td>\n",
       "      <td>-0.127599</td>\n",
       "    </tr>\n",
       "    <tr>\n",
       "      <th>71556</th>\n",
       "      <td>1</td>\n",
       "      <td>-0.523832</td>\n",
       "      <td>1</td>\n",
       "      <td>-0.440155</td>\n",
       "      <td>1</td>\n",
       "      <td>0.727273</td>\n",
       "      <td>-0.244787</td>\n",
       "      <td>-0.291608</td>\n",
       "      <td>0.916933</td>\n",
       "      <td>0.142857</td>\n",
       "      <td>1</td>\n",
       "      <td>18</td>\n",
       "      <td>0.857143</td>\n",
       "      <td>1</td>\n",
       "      <td>-0.127599</td>\n",
       "    </tr>\n",
       "  </tbody>\n",
       "</table>\n",
       "</div>"
      ],
      "text/plain": [
       "       phone_check  sourceCode  title_check  Region_IP  flag_campaign  \\\n",
       "71551            1    1.493859            1  -0.387088              0   \n",
       "71552            1   -0.263820            1  -0.506700              1   \n",
       "71553            1   -0.507608            1  -0.381225              1   \n",
       "71555            1   -0.380860            1   0.923364              1   \n",
       "71556            1   -0.523832            1  -0.440155              1   \n",
       "\n",
       "       PHONE_digit_unique_share  Country_IP  email_domain  title_length  \\\n",
       "71551                  0.454545   -0.244787     -0.291608     -0.848664   \n",
       "71552                  0.636364   -0.244787     -0.291608     -0.456309   \n",
       "71553                  0.454545   -0.244787     -0.291608     -0.063954   \n",
       "71555                  0.727273   -0.244787     -0.072259      1.113111   \n",
       "71556                  0.727273   -0.244787     -0.291608      0.916933   \n",
       "\n",
       "       title_alpha_upper_share  flag_MERGE_LEAD  hour  \\\n",
       "71551                 0.250000                1    18   \n",
       "71552                 0.166667                1    18   \n",
       "71553                 0.125000                0    18   \n",
       "71555                 0.133333                0    18   \n",
       "71556                 0.142857                1    18   \n",
       "\n",
       "       title_alpha_unique_share  title_has_cyrillic_letter  PHONE_length  \n",
       "71551                  0.750000                          1     -0.127599  \n",
       "71552                  1.000000                          1     -0.127599  \n",
       "71553                  0.875000                          1     -0.127599  \n",
       "71555                  0.666667                          0     -0.127599  \n",
       "71556                  0.857143                          1     -0.127599  "
      ]
     },
     "execution_count": 587,
     "metadata": {},
     "output_type": "execute_result"
    }
   ],
   "source": [
    "train[top_15_features].head()"
   ]
  },
  {
   "cell_type": "code",
   "execution_count": 589,
   "id": "c7e598d2",
   "metadata": {},
   "outputs": [],
   "source": [
    "features_type =\\\n",
    "{\n",
    "    'phone_check':'cat',\n",
    "    'sourceCode':'real',\n",
    "    'title_check':'cat',\n",
    "    'Region_IP':'real',\n",
    "    'flag_campaign':'cat',\n",
    "    'PHONE_digit_unique_share':'real',\n",
    "    'Country_IP':'real',\n",
    "    'email_domain':'real',\n",
    "    'title_length':'real',\n",
    "    'title_alpha_upper_share':'real',\n",
    "    'flag_MERGE_LEAD':'cat',\n",
    "    'hour':'cat',\n",
    "    'title_alpha_unique_share':'real',\n",
    "    'title_has_cyrillic_letter':'cat',\n",
    "    'PHONE_length':'real'    \n",
    "}"
   ]
  },
  {
   "cell_type": "code",
   "execution_count": 591,
   "id": "4909eeaf",
   "metadata": {},
   "outputs": [],
   "source": [
    "auto_woe = AutoWoE(interpreted_model=True,\n",
    "                     monotonic=False,\n",
    "                    # попробовать поменять параметр, задать в цикле разные занчения\n",
    "                     max_bin_count=7,\n",
    "                     select_type=None,\n",
    "                     pearson_th=0.9,\n",
    "                     auc_th=.505,\n",
    "                     vif_th=10.,\n",
    "                     imp_th=0,\n",
    "                     th_const=32,\n",
    "                     force_single_split=True,\n",
    "                     th_nan=0.01,\n",
    "                     th_cat=0.005,\n",
    "                     woe_diff_th=0.01,\n",
    "                     min_bin_size=0.01,\n",
    "                     min_bin_mults=(2, 4),\n",
    "                     min_gains_to_split=(0.0, 0.5, 1.0),\n",
    "                     auc_tol=1e-4,\n",
    "                     cat_alpha=100,\n",
    "                     cat_merge_to=\"to_woe_0\",\n",
    "                     nan_merge_to=\"to_woe_0\",\n",
    "                     oof_woe=True,\n",
    "                     n_folds=6,\n",
    "                     n_jobs=4,\n",
    "                     l1_grid_size=20,\n",
    "                     l1_exp_scale=6,\n",
    "                     imp_type=\"feature_imp\",\n",
    "                     regularized_refit=False,\n",
    "                     p_val=0.05,\n",
    "                     debug=False,\n",
    "                     verbose=0\n",
    "        )\n",
    "\n",
    "auto_woe = ReportDeco(auto_woe)"
   ]
  },
  {
   "cell_type": "code",
   "execution_count": 592,
   "id": "b1c3de2f",
   "metadata": {},
   "outputs": [
    {
     "name": "stdout",
     "output_type": "stream",
     "text": [
      "CPU times: total: 7min 56s\n",
      "Wall time: 7min 20s\n"
     ]
    }
   ],
   "source": [
    "%%time\n",
    "auto_woe.fit(train[top_15_features + ['SPAM_flag']], \n",
    "             target_name=\"SPAM_flag\",\n",
    "             features_type=features_type,\n",
    "             group_kf=None,\n",
    "             #max_bin_count=max_bin_count,\n",
    "             #features_monotone_constraints=features_monotone_constraints,\n",
    "             #validation=test\n",
    "            )"
   ]
  },
  {
   "cell_type": "code",
   "execution_count": 593,
   "id": "3f2212c2",
   "metadata": {},
   "outputs": [
    {
     "name": "stdout",
     "output_type": "stream",
     "text": [
      "CPU times: total: 1min 44s\n",
      "Wall time: 1min 42s\n"
     ]
    },
    {
     "data": {
      "text/plain": [
       "0.936436334986563"
      ]
     },
     "execution_count": 593,
     "metadata": {},
     "output_type": "execute_result"
    }
   ],
   "source": [
    "%%time\n",
    "woe_train_pred = auto_woe.predict_proba(train[top_15_features + ['SPAM_flag']])"
   ]
  },
  {
   "cell_type": "code",
   "execution_count": 594,
   "id": "3d96cce1",
   "metadata": {},
   "outputs": [
    {
     "name": "stdout",
     "output_type": "stream",
     "text": [
      "CPU times: total: 1min 16s\n",
      "Wall time: 1min 14s\n"
     ]
    }
   ],
   "source": [
    "%%time\n",
    "woe_test_pred = auto_woe.predict_proba(test[top_15_features + ['SPAM_flag']])"
   ]
  },
  {
   "cell_type": "code",
   "execution_count": 595,
   "id": "a22c1895",
   "metadata": {},
   "outputs": [
    {
     "name": "stdout",
     "output_type": "stream",
     "text": [
      "CPU times: total: 15.1 s\n",
      "Wall time: 13.7 s\n"
     ]
    }
   ],
   "source": [
    "%%time\n",
    "woe_ab_pred = auto_woe.predict_proba(work_data_ab[top_15_features + ['SPAM_flag']])"
   ]
  },
  {
   "cell_type": "code",
   "execution_count": 597,
   "id": "caadc3a6",
   "metadata": {},
   "outputs": [
    {
     "data": {
      "text/plain": [
       "0.936436334986563"
      ]
     },
     "metadata": {},
     "output_type": "display_data"
    },
    {
     "data": {
      "text/plain": [
       "0.9586247819483145"
      ]
     },
     "metadata": {},
     "output_type": "display_data"
    },
    {
     "data": {
      "text/plain": [
       "0.9016428360490687"
      ]
     },
     "metadata": {},
     "output_type": "display_data"
    }
   ],
   "source": [
    "display(roc_auc_score(train['SPAM_flag'], woe_train_pred),\n",
    "roc_auc_score(test['SPAM_flag'], woe_test_pred),\n",
    "roc_auc_score(work_data_ab['SPAM_flag'], woe_ab_pred))"
   ]
  },
  {
   "cell_type": "code",
   "execution_count": 598,
   "id": "cf203c18",
   "metadata": {
    "collapsed": true
   },
   "outputs": [
    {
     "name": "stderr",
     "output_type": "stream",
     "text": [
      "No artists with labels found to put in legend.  Note that artists whose label start with an underscore are ignored when legend() is called with no argument.\n",
      "No artists with labels found to put in legend.  Note that artists whose label start with an underscore are ignored when legend() is called with no argument.\n",
      "No artists with labels found to put in legend.  Note that artists whose label start with an underscore are ignored when legend() is called with no argument.\n",
      "No artists with labels found to put in legend.  Note that artists whose label start with an underscore are ignored when legend() is called with no argument.\n",
      "No artists with labels found to put in legend.  Note that artists whose label start with an underscore are ignored when legend() is called with no argument.\n",
      "No artists with labels found to put in legend.  Note that artists whose label start with an underscore are ignored when legend() is called with no argument.\n",
      "No artists with labels found to put in legend.  Note that artists whose label start with an underscore are ignored when legend() is called with no argument.\n",
      "No artists with labels found to put in legend.  Note that artists whose label start with an underscore are ignored when legend() is called with no argument.\n",
      "No artists with labels found to put in legend.  Note that artists whose label start with an underscore are ignored when legend() is called with no argument.\n",
      "No artists with labels found to put in legend.  Note that artists whose label start with an underscore are ignored when legend() is called with no argument.\n",
      "No artists with labels found to put in legend.  Note that artists whose label start with an underscore are ignored when legend() is called with no argument.\n",
      "No artists with labels found to put in legend.  Note that artists whose label start with an underscore are ignored when legend() is called with no argument.\n",
      "No artists with labels found to put in legend.  Note that artists whose label start with an underscore are ignored when legend() is called with no argument.\n",
      "No artists with labels found to put in legend.  Note that artists whose label start with an underscore are ignored when legend() is called with no argument.\n"
     ]
    },
    {
     "name": "stdout",
     "output_type": "stream",
     "text": [
      "CPU times: total: 20.1 s\n",
      "Wall time: 20.1 s\n"
     ]
    }
   ],
   "source": [
    "%%time\n",
    "report_params = {\"automl_date_column\": \"2022-10-04\",\n",
    "                 \"output_path\": r\"C:\\Users\\DDubai\\Desktop\\модель по спаму\", # папка, куда сгенерится отчет и сложатся нужные файлы\n",
    "                 \"report_name\": \"Модель на спам\",\n",
    "                 \"report_version_id\": 1,\n",
    "                 \"city\": \"Москва\",\n",
    "                 \"model_aim\": \"Оценка вероятности спам лида\",\n",
    "                 \"model_name\": \"Модель на спам\",\n",
    "                 \"zakazchik\": \"----------\",\n",
    "                 \"high_level_department\": \"Аналитический центр\",\n",
    "                 \"ds_name\": \"Duabi\",\n",
    "                 \"target_descr\": \"вероятность спама\",\n",
    "                 \"non_target_descr\": \"--\"}\n",
    "\n",
    "auto_woe.generate_report(report_params)"
   ]
  },
  {
   "cell_type": "code",
   "execution_count": 612,
   "id": "751b661d",
   "metadata": {},
   "outputs": [
    {
     "data": {
      "image/png": "[encoded data removed]",
      "text/plain": [
       "<Figure size 720x360 with 1 Axes>"
      ]
     },
     "metadata": {},
     "output_type": "display_data"
    },
    {
     "name": "stdout",
     "output_type": "stream",
     "text": [
      "CPU times: total: 2min 7s\n",
      "Wall time: 2min 7s\n"
     ]
    }
   ],
   "source": [
    "%%time\n",
    "best_ridge(test, 0.001, 0.001)"
   ]
  }
 ],
 "metadata": {
  "kernelspec": {
   "display_name": "Python 3 (ipykernel)",
   "language": "python",
   "name": "python3"
  },
  "language_info": {
   "codemirror_mode": {
    "name": "ipython",
    "version": 3
   },
   "file_extension": ".py",
   "mimetype": "text/x-python",
   "name": "python",
   "nbconvert_exporter": "python",
   "pygments_lexer": "ipython3",
   "version": "3.9.12"
  }
 },
 "nbformat": 4,
 "nbformat_minor": 5
}
